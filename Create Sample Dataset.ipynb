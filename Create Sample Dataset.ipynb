{
 "cells": [
  {
   "cell_type": "code",
   "execution_count": null,
   "metadata": {
    "collapsed": true
   },
   "outputs": [],
   "source": [
    "import pandas as pd\n",
    "import random\n",
    "from os import path, makedirs"
   ]
  },
  {
   "cell_type": "markdown",
   "metadata": {},
   "source": [
    "author: Diego Carraro, on the 01/04/2021 contact: diego.carraro89@gmail.com"
   ]
  },
  {
   "cell_type": "markdown",
   "metadata": {},
   "source": [
    "Python version: 3"
   ]
  },
  {
   "cell_type": "markdown",
   "metadata": {},
   "source": [
    "<h1>To create a random dataset to test the Debiased Evaluation</h1>"
   ]
  },
  {
   "cell_type": "markdown",
   "metadata": {},
   "source": [
    "<h3>Create a MAR dataset</h3>"
   ]
  },
  {
   "cell_type": "code",
   "execution_count": null,
   "metadata": {
    "collapsed": true
   },
   "outputs": [],
   "source": [
    "n_users = 100 # number of users\n",
    "n_items = 150 # number of items\n",
    "n_ratings = 500 # number of ratings"
   ]
  },
  {
   "cell_type": "code",
   "execution_count": null,
   "metadata": {
    "collapsed": false
   },
   "outputs": [],
   "source": [
    "random_users = random.choices(range(1, n_users + 1), k=n_ratings)\n",
    "random_items = random.choices(range(1, n_items + 1), k=n_ratings)\n",
    "random_ratings = random.choices(range(1, 6), k=n_ratings)"
   ]
  },
  {
   "cell_type": "code",
   "execution_count": null,
   "metadata": {
    "collapsed": false
   },
   "outputs": [],
   "source": [
    "data = {'userId': random_users, 'itemId': random_items, 'rating': random_ratings}\n",
    "df = pd.DataFrame(data=data)\n",
    "df = df.reindex(columns=['userId','itemId','rating'])\n",
    "df.head(1)"
   ]
  },
  {
   "cell_type": "code",
   "execution_count": null,
   "metadata": {
    "collapsed": false
   },
   "outputs": [],
   "source": [
    "# create dataset folder\n",
    "folder = 'datasets/DatasetSample/'\n",
    "if not path.exists(folder):\n",
    "    makedirs(folder)\n",
    "        \n",
    "# save dataset\n",
    "df.to_csv(folder + 'MAR_ratings.csv', sep='\\t', index=False, header=True)"
   ]
  },
  {
   "cell_type": "markdown",
   "metadata": {},
   "source": [
    "<h3>Create a MNAR dataset</h3>"
   ]
  },
  {
   "cell_type": "code",
   "execution_count": null,
   "metadata": {
    "collapsed": false
   },
   "outputs": [],
   "source": [
    "random_users = random.choices(range(1, 100), k=500)\n",
    "random_items = random.choices(range(1, 150), k=500)\n",
    "random_ratings = random.choices(range(1, 6), k=500)"
   ]
  },
  {
   "cell_type": "code",
   "execution_count": null,
   "metadata": {
    "collapsed": false
   },
   "outputs": [],
   "source": [
    "data = {'userId': random_users, 'itemId': random_items, 'rating': random_ratings}\n",
    "df = pd.DataFrame(data=data)\n",
    "df = df.reindex(columns=['userId','itemId','rating'])\n",
    "df.head(1)"
   ]
  },
  {
   "cell_type": "code",
   "execution_count": null,
   "metadata": {
    "collapsed": false
   },
   "outputs": [],
   "source": [
    "# create dataset folder\n",
    "folder = 'datasets/DatasetSample/'\n",
    "if not path.exists(folder):\n",
    "    makedirs(folder)\n",
    "        \n",
    "# save dataset\n",
    "df.to_csv(folder + 'MNAR_ratings.csv', sep='\\t', index=False, header=True)"
   ]
  },
  {
   "cell_type": "code",
   "execution_count": null,
   "metadata": {
    "collapsed": true
   },
   "outputs": [],
   "source": []
  }
 ],
 "metadata": {
  "anaconda-cloud": {},
  "kernelspec": {
   "display_name": "Python 3",
   "language": "python",
   "name": "python3"
  },
  "language_info": {
   "codemirror_mode": {
    "name": "ipython",
    "version": 3
   },
   "file_extension": ".py",
   "mimetype": "text/x-python",
   "name": "python",
   "nbconvert_exporter": "python",
   "pygments_lexer": "ipython3",
   "version": "3.6.0"
  }
 },
 "nbformat": 4,
 "nbformat_minor": 1
}
